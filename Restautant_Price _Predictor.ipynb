{
 "cells": [
  {
   "cell_type": "code",
   "execution_count": 1,
   "metadata": {},
   "outputs": [
    {
     "name": "stderr",
     "output_type": "stream",
     "text": [
      "/Users/prinsloutare/anaconda3/lib/python3.6/site-packages/h5py/__init__.py:36: FutureWarning: Conversion of the second argument of issubdtype from `float` to `np.floating` is deprecated. In future, it will be treated as `np.float64 == np.dtype(float).type`.\n",
      "  from ._conv import register_converters as _register_converters\n",
      "Using TensorFlow backend.\n"
     ]
    }
   ],
   "source": [
    "import tensorflow as tf\n",
    "import keras\n",
    "import sklearn"
   ]
  },
  {
   "cell_type": "code",
   "execution_count": 2,
   "metadata": {},
   "outputs": [],
   "source": [
    "import json\n",
    "\n",
    "mydata = {}\n",
    "\n",
    "with open('reviews_cleaned_punct.json') as json_data:\n",
    "    mydata = json.load(json_data)\n",
    "json_data.close()"
   ]
  },
  {
   "cell_type": "code",
   "execution_count": 3,
   "metadata": {},
   "outputs": [],
   "source": [
    "reviews = [(str(items['review']), int(items['Price'])) for reviewId, items in mydata.items()] "
   ]
  },
  {
   "cell_type": "code",
   "execution_count": 4,
   "metadata": {},
   "outputs": [],
   "source": [
    "X = [item[0] for item in reviews]\n",
    "Y = [item[1] for item in reviews]"
   ]
  },
  {
   "cell_type": "code",
   "execution_count": 5,
   "metadata": {},
   "outputs": [],
   "source": [
    "from keras.preprocessing.text import one_hot"
   ]
  },
  {
   "cell_type": "code",
   "execution_count": 6,
   "metadata": {},
   "outputs": [],
   "source": [
    "vocab_size = 8000\n",
    "X_encoded = [one_hot(x, vocab_size) for x in X]"
   ]
  },
  {
   "cell_type": "code",
   "execution_count": 7,
   "metadata": {},
   "outputs": [],
   "source": [
    "from keras.preprocessing.sequence import pad_sequences\n",
    "max_length = 70\n",
    "X_padded = pad_sequences(X_encoded, maxlen=max_length, padding='post')"
   ]
  },
  {
   "cell_type": "code",
   "execution_count": 8,
   "metadata": {},
   "outputs": [],
   "source": [
    "from sklearn.model_selection import train_test_split\n",
    "from sklearn import preprocessing\n",
    "Y = [[y] for y in Y]\n",
    "X_train, X_test, y_train, y_test = train_test_split(X_padded, Y, test_size = 0.2)\n",
    "save_test = X_test\n",
    "save_test_y = y_test\n",
    "min_max_scaler = preprocessing.MinMaxScaler()\n",
    "#X_train = min_max_scaler.fit_transform(X_train)\n",
    "#X_test = min_max_scaler.fit_transform(X_test)\n",
    "y_train = min_max_scaler.fit_transform(y_train)\n",
    "y_test = min_max_scaler.fit_transform(y_test)"
   ]
  },
  {
   "cell_type": "code",
   "execution_count": 9,
   "metadata": {},
   "outputs": [],
   "source": [
    "from keras.models import Sequential\n",
    "from keras.layers import Dense, Embedding, Flatten"
   ]
  },
  {
   "cell_type": "code",
   "execution_count": 10,
   "metadata": {},
   "outputs": [
    {
     "name": "stdout",
     "output_type": "stream",
     "text": [
      "_________________________________________________________________\n",
      "Layer (type)                 Output Shape              Param #   \n",
      "=================================================================\n",
      "embedding_1 (Embedding)      (None, 70, 8)             64000     \n",
      "_________________________________________________________________\n",
      "flatten_1 (Flatten)          (None, 560)               0         \n",
      "_________________________________________________________________\n",
      "dense_1 (Dense)              (None, 1024)              574464    \n",
      "_________________________________________________________________\n",
      "dense_2 (Dense)              (None, 64)                65600     \n",
      "_________________________________________________________________\n",
      "dense_3 (Dense)              (None, 4)                 260       \n",
      "=================================================================\n",
      "Total params: 704,324\n",
      "Trainable params: 704,324\n",
      "Non-trainable params: 0\n",
      "_________________________________________________________________\n",
      "None\n"
     ]
    }
   ],
   "source": [
    "# define the model\n",
    "model = Sequential()\n",
    "model.add(Embedding(vocab_size, 8, input_length=max_length))\n",
    "model.add(Flatten())\n",
    "model.add(Dense(1024, activation='relu'))\n",
    "model.add(Dense(64, activation='relu'))\n",
    "model.add(Dense(4, activation='softmax'))\n",
    "# compile the model\n",
    "model.compile(optimizer='adam', loss='sparse_categorical_crossentropy', metrics=['acc'])\n",
    "# summarize the model\n",
    "print(model.summary())"
   ]
  },
  {
   "cell_type": "code",
   "execution_count": 11,
   "metadata": {},
   "outputs": [
    {
     "name": "stdout",
     "output_type": "stream",
     "text": [
      "Epoch 1/10\n",
      "45427/45427 [==============================] - 46s 1ms/step - loss: 0.0697 - acc: 0.2589\n",
      "Epoch 2/10\n",
      "45427/45427 [==============================] - 41s 910us/step - loss: 0.0232 - acc: 0.2671\n",
      "Epoch 3/10\n",
      "45427/45427 [==============================] - 44s 961us/step - loss: 0.0067 - acc: 0.2709\n",
      "Epoch 4/10\n",
      "45427/45427 [==============================] - 43s 937us/step - loss: 0.0024 - acc: 0.2720\n",
      "Epoch 5/10\n",
      "45427/45427 [==============================] - 43s 943us/step - loss: 0.0025 - acc: 0.2720\n",
      "Epoch 6/10\n",
      "45427/45427 [==============================] - 44s 966us/step - loss: 0.0014 - acc: 0.2722\n",
      "Epoch 7/10\n",
      "45427/45427 [==============================] - 42s 924us/step - loss: 0.0018 - acc: 0.2720\n",
      "Epoch 8/10\n",
      "45427/45427 [==============================] - 41s 893us/step - loss: 0.0014 - acc: 0.2722\n",
      "Epoch 9/10\n",
      "45427/45427 [==============================] - 38s 837us/step - loss: 0.0011 - acc: 0.2722\n",
      "Epoch 10/10\n",
      "45427/45427 [==============================] - 43s 952us/step - loss: 4.0061e-04 - acc: 0.2724\n"
     ]
    },
    {
     "data": {
      "text/plain": [
       "<keras.callbacks.History at 0x1830c33400>"
      ]
     },
     "execution_count": 11,
     "metadata": {},
     "output_type": "execute_result"
    }
   ],
   "source": [
    "# fit the model\n",
    "model.fit(X_train, y_train, epochs=10, verbose=1)\n",
    "# evaluate the model"
   ]
  },
  {
   "cell_type": "code",
   "execution_count": null,
   "metadata": {},
   "outputs": [],
   "source": []
  },
  {
   "cell_type": "code",
   "execution_count": null,
   "metadata": {},
   "outputs": [],
   "source": []
  }
 ],
 "metadata": {
  "kernelspec": {
   "display_name": "Python 3",
   "language": "python",
   "name": "python3"
  },
  "language_info": {
   "codemirror_mode": {
    "name": "ipython",
    "version": 3
   },
   "file_extension": ".py",
   "mimetype": "text/x-python",
   "name": "python",
   "nbconvert_exporter": "python",
   "pygments_lexer": "ipython3",
   "version": "3.6.4"
  }
 },
 "nbformat": 4,
 "nbformat_minor": 2
}
